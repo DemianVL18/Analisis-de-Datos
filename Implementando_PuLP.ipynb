{
  "nbformat": 4,
  "nbformat_minor": 0,
  "metadata": {
    "colab": {
      "provenance": [],
      "collapsed_sections": [
        "5c-YAXQsGnwW",
        "5zbA1_BUS3MR",
        "x2s946CgUhNK"
      ],
      "include_colab_link": true
    },
    "kernelspec": {
      "name": "python3",
      "display_name": "Python 3"
    },
    "language_info": {
      "name": "python"
    }
  },
  "cells": [
    {
      "cell_type": "markdown",
      "metadata": {
        "id": "view-in-github",
        "colab_type": "text"
      },
      "source": [
        "<a href=\"https://colab.research.google.com/github/DemianVL18/Analisis-de-Datos/blob/main/Implementando_PuLP.ipynb\" target=\"_parent\"><img src=\"https://colab.research.google.com/assets/colab-badge.svg\" alt=\"Open In Colab\"/></a>"
      ]
    },
    {
      "cell_type": "markdown",
      "source": [
        "# **N9: Optimización Lineal III: Formulación de problemas**"
      ],
      "metadata": {
        "id": "rdXCPfZth0-6"
      }
    },
    {
      "cell_type": "markdown",
      "source": [
        "### **Introducción**"
      ],
      "metadata": {
        "id": "5c-YAXQsGnwW"
      }
    },
    {
      "cell_type": "markdown",
      "source": [
        " - En los notebooks anteriores de esta unidad aprendiste los conceptos fundamentales para formular un problema de optimización lineal y solucionarlo con python. Esta semana el foco estará en poner a prueba estos aprendizajes.\n",
        "  - Es por esto que el notebook de esta semana contiene información sobre dos desafíos empresariales, para los cuales deberás formular y responder el problema implementando PuLP. La idea es que las horas de estudio de la semana estén en la integración de los conocimientos previos sobre estos casos aplicados. Así, para cada caso deberán:\n",
        "    - Caracterizar conceptual y matemáticamente:\n",
        "      - Objetivo\n",
        "      - Función objetivo\n",
        "      - Variables\n",
        "      - Restricciones\n",
        "    - Solucionar el problema con PuLP"
      ],
      "metadata": {
        "id": "WAU8w-3iatWd"
      }
    },
    {
      "cell_type": "markdown",
      "source": [
        "### **Caso 1: Planificación de rutas de distribución**\n"
      ],
      "metadata": {
        "id": "5zbA1_BUS3MR"
      }
    },
    {
      "cell_type": "markdown",
      "source": [
        "- Una empresa busca disminuir los costos totales de transporte al asignar la cantidad óptima de productos a tres ubicaciones diferentes.\n",
        "\n",
        "- Estas ubicaciones se identifican como Ubicación 1, Ubicación 2 y Ubicación 3, y cada una tiene sus propias demandas y costos asociados.\n",
        "\n",
        "- Es posible combinar distintas variables como la cantidad de producto a transportar  y la ubicación.\n",
        "\n",
        "- Sin embargo, la suma total de los productos transportados a todas las ubicaciones no puede superar las 100 unidades (esta restricción garantiza que no se sobrecargue la capacidad de transporte disponible).\n",
        "\n",
        "- Asimismo, para cumplir con las necesidades de cada ubicación, se establecen requisitos mínimos de demanda: se requiere un mínimo de 20 unidades en la Ubicación 1; se requiere un mínimo de 30 unidades en la Ubicación 2; se requiere un mínimo de 25 unidades en la Ubicación 3.\n",
        "\n",
        "EN EL CASO 1, FALTA AGREGAR ESTOS ANTECEDENTES:\n",
        "\n",
        "Costos por unidad para cada ubicación:\n",
        "\n",
        "Costo por unidad transportada a Ubicación 1 es 40 USD.\n",
        "\n",
        "Costo por unidad transportada a Ubicación 2 es 30 USD.\n",
        "\n",
        "Costo por unidad transportada a Ubicación 3 es 50 USD."
      ],
      "metadata": {
        "id": "F_BoBjY3Fzhk"
      }
    },
    {
      "cell_type": "markdown",
      "source": [
        "**Elementos a considerar en la Respuesta 1:**"
      ],
      "metadata": {
        "id": "PqpDRev6L5af"
      }
    },
    {
      "cell_type": "markdown",
      "source": [
        "**- Objetivo:** Disminuir los costos totales de transporte.\n",
        "\n",
        "**- Variables:**\n",
        " *   $ \\text{X}_{1}  = \\text{Cantidad de productos transportados a Ubicación 1}$\n",
        " *   $ \\text{X}_{2}  = \\text{Cantidad de productos transportados a Ubicación 2}$\n",
        " *   $ \\text{X}_{3}  = \\text{Cantidad de productos transportados a Ubicación 3}$\n",
        "\n",
        "**- Función objetivo:**\n",
        "\n",
        "* $ \\text{Minimizar Costo Total} = \\text{40X}_{1} + \\text{30X}_{2} + \\text{50X}_{3}  $\n",
        "\n",
        "**- Restricciones:**\n",
        "- Capacidad de trasporte:\n",
        " - $\\text{X}_{1} + \\text{X}_{2} + \\text{X}_{3} \\leq 100 $\n",
        "- Demanda minima por ubicacion:\n",
        " - $ \\text{X}_{1} \\geq \\text{20}$\n",
        " - $ \\text{X}_{2} \\geq \\text{30}$\n",
        " - $ \\text{X}_{3} \\geq \\text{25}$"
      ],
      "metadata": {
        "id": "tQ0hh2_NLuOu"
      }
    },
    {
      "cell_type": "code",
      "source": [
        "!pip install pulp\n",
        "from pulp import *"
      ],
      "metadata": {
        "colab": {
          "base_uri": "https://localhost:8080/"
        },
        "id": "gZFb7BJ68c6z",
        "outputId": "34751a3b-0480-4d3b-cf4c-b62ab60642ba"
      },
      "execution_count": null,
      "outputs": [
        {
          "output_type": "stream",
          "name": "stdout",
          "text": [
            "Requirement already satisfied: pulp in /usr/local/lib/python3.11/dist-packages (3.1.1)\n"
          ]
        }
      ]
    },
    {
      "cell_type": "code",
      "source": [
        "!pip install pulp\n",
        "from pulp import *\n",
        "\n",
        "# Definir los datos del problema\n",
        "costos = {\n",
        "    'Ubicacion1': 40,\n",
        "    'Ubicacion2': 30,\n",
        "    'Ubicacion3': 50,\n",
        "}\n",
        "\n",
        "capacidad_total = 100  # Capacidad máxima de transporte\n",
        "\n",
        "# Crear el problema de minimización\n",
        "problem = LpProblem(\"Planificación_de_Rutas\", LpMinimize)\n",
        "\n",
        "# Definir variables de decisión\n",
        "# X1, X2 y X3 representan las cantidades transportadas a cada ubicación\n",
        "variables = LpVariable.dicts(\"X\", ['Ubicacion1', 'Ubicacion2', 'Ubicacion3'], lowBound=0, cat='Continuous')\n",
        "\n",
        "# Definir la función objetivo\n",
        "# Minimizar el costo total de transporte\n",
        "problem += lpSum(costos[ubicacion] * variables[ubicacion] for ubicacion in costos)\n",
        "\n",
        "# Restricción de capacidad total de transporte\n",
        "problem += lpSum(variables[ubicacion] for ubicacion in variables) == capacidad_total, \"CapacidadTotal\"\n",
        "\n",
        "# Restricciones de demanda mínima por ubicación\n",
        "problem += variables['Ubicacion1'] >= 20, \"DemandaMin_Ubicacion1\"\n",
        "problem += variables['Ubicacion2'] >= 30, \"DemandaMin_Ubicacion2\"\n",
        "problem += variables['Ubicacion3'] >= 25, \"DemandaMin_Ubicacion3\"\n",
        "\n",
        "# Resolver el problema\n",
        "problem.solve()\n",
        "\n",
        "# Mostrar los resultados\n",
        "print(\"Estado de la solución:\", LpStatus[problem.status])\n",
        "print(\"Costo total de transporte:\", value(problem.objective))\n",
        "print(\"Cantidad de productos transportados a cada ubicación:\")\n",
        "for ubicacion in variables:\n",
        "    print(f\"{ubicacion}: {value(variables[ubicacion])} unidades\")"
      ],
      "metadata": {
        "colab": {
          "base_uri": "https://localhost:8080/"
        },
        "id": "ikMwa9K-BRBw",
        "outputId": "0a5f2081-8b54-4afb-c034-fe23fa03202b"
      },
      "execution_count": null,
      "outputs": [
        {
          "output_type": "stream",
          "name": "stdout",
          "text": [
            "Requirement already satisfied: pulp in /usr/local/lib/python3.11/dist-packages (3.1.1)\n",
            "Estado de la solución: Optimal\n",
            "Costo total de transporte: 3700.0\n",
            "Cantidad de productos transportados a cada ubicación:\n",
            "Ubicacion1: 20.0 unidades\n",
            "Ubicacion2: 55.0 unidades\n",
            "Ubicacion3: 25.0 unidades\n"
          ]
        }
      ]
    },
    {
      "cell_type": "markdown",
      "source": [
        "**Análisis:**\n",
        "\n",
        "La solución muestra que para minimizar los costos totales de transporte, la estrategia óptima es transportar únicamente las cantidades mínimas requeridas por cada ubicación: 20 unidades a Ubicación 1, 30 a Ubicación 2 y 25 a Ubicación 3 (75 unidades). Esta asignación cumple la restricción de capacidad máxima permitida de 100 unidades y cumple estrictamente con los requerimientos de cada ubicación.\n",
        "\n",
        "Este resultado es coherente con el objetivo de minimizar costos, ya que:\n",
        "\n",
        " * Enviar unidades adicionales a cualquier ubicación implicaría un aumento innecesario en el gasto, especialmente hacia Ubicación 3, cuyo costo por unidad es el más alto (50).\n",
        " * El modelo prioriza las ubicaciones con menor costo unitario (como Ubicación 2, con 30 por unidad), pero está limitado por la capacidad total de transporte, lo que impide cubrir más allá de la demanda mínima sin sacrificar el costo total.\n",
        "\n",
        "En otras palabras, no hay beneficio económico en exceder las demandas mínimas, y hacerlo solo incrementaría el costo sin mejorar la eficiencia. Por tanto, el modelo opta por una asignación exacta y ajustada al mínimo exigido en cada destino, maximizando así la eficiencia del transporte bajo una restricción presupuestaria y de capacidad estricta.\n",
        "\n",
        "Ahora bien, si la empresa decidiera llenar completamente la capacidad máxima del camión (100 unidades), el modelo propone esta alternativa óptima:\n",
        "\n",
        "*\tUbicación 1: 20 unidades\n",
        "*\tUbicación 2: 55 unidades\n",
        "*\tUbicación 3: 25 unidades\n",
        "*\tCosto total de transporte: 3700\n",
        "\n",
        "Este escenario permite aprovechar al máximo la capacidad logística disponible, pero con un incremento en el costo total de 750 respecto al escenario base. Esto demuestra que llenar el camión no siempre es sinónimo de eficiencia económica, y que la minimización de costos puede estar en tensión con la utilización total de recursos físicos.\n"
      ],
      "metadata": {
        "id": "vJP-qQLzwVqm"
      }
    },
    {
      "cell_type": "markdown",
      "source": [
        "### **Caso 2. Maximización de Ingresos por ventas**"
      ],
      "metadata": {
        "id": "x2s946CgUhNK"
      }
    },
    {
      "cell_type": "markdown",
      "source": [
        "- Imagina que ocupas el cargo de gerente de ventas en una empresa que ofrece una variedad de productos a sus clientes.\n",
        "\n",
        "- La empresa cuenta con un portafolio diversificado de productos, cada uno con su propio potencial de generación de ingresos.\n",
        "\n",
        "- La empresa busca aumentar su rentabilidad maximizando los ingresos por ventas. Esto implica tomar decisiones estratégicas sobre cómo asignar los recursos de ventas de manera eficiente para satisfacer la demanda del mercado y aprovechar al máximo la capacidad de producción.\n",
        "\n",
        "- Se venden tres tipos de producto, para los cuales se tiene la cantidad vendida: producto_1, producto_2, y producto_3.\n",
        "\n",
        "- Se asume que el precio de venta por unidad es de $20 para el producto 1, $15 para el producto 2 y $25 para el producto 3.\n",
        "\n",
        "- La cantidad total de productos vendidos no puede exceder la capacidad de producción de la empresa (500). La demanda del mercado para cada producto debe ser satisfecha.\n",
        "\n",
        "- Se establecen requisitos mínimos de demanda: 100 para el producto 1; 150 para el producto 2; y 200 para el producto 3.\n",
        "\n",
        "- El desafío consiste en encontrar la asignación óptima de la cantidad de productos a vender que maximice los ingresos totales por ventas, garantizando que se cumplan todas las restricciones establecidas.\n",
        "\n",
        "- Una vez resuelto, se obtendrá la cantidad óptima de cada producto a vender y los ingresos totales máximos por ventas."
      ],
      "metadata": {
        "id": "gLTH0ZX5INDU"
      }
    },
    {
      "cell_type": "markdown",
      "source": [
        "**Elementos a considerar en la Respuesta 2:**"
      ],
      "metadata": {
        "id": "V9DBrhpSMAhv"
      }
    },
    {
      "cell_type": "markdown",
      "source": [
        "**- Objetivo:** Aumentar su rentabilidad maximizando los ingresos por ventas.\n",
        "\n",
        "**- Variables:**\n",
        " *   $ \\text{P}_{1}  = \\text{Cantidad vendida Producto 1}$\n",
        " *   $ \\text{P}_{2}  = \\text{Cantidad vendida Producto 2}$\n",
        " *   $ \\text{P}_{3}  = \\text{Cantidad vendida Producto 3}$\n",
        "\n",
        "**- Función objetivo:**\n",
        " - $ \\text{Maximizar Ingresos} = \\text{20P}_{1} + \\text{15P}_{2} + \\text{25P}_{3}  $\n",
        "\n",
        "**- Restricciones:**\n",
        "- Capacidad de produccion:\n",
        " - $\\text{P}_{1} + \\text{P}_{2} + \\text{P}_{3} \\leq 500 $\n",
        "- Demanda minima por Producto:\n",
        " - $ \\text{P}_{1} \\geq \\text{100}$\n",
        " - $ \\text{P}_{2} \\geq \\text{150}$\n",
        " - $ \\text{P}_{3} \\geq \\text{200}$"
      ],
      "metadata": {
        "id": "Ivng2xJ8MAhv"
      }
    },
    {
      "cell_type": "code",
      "source": [
        "from pulp import *\n",
        "\n",
        "# Crear un problema de maximizando\n",
        "problem = LpProblem(\"Maximizar_Alcance\", LpMaximize)\n",
        "\n",
        "# Definir variables\n",
        "P1 = LpVariable(\"Producto 1\", lowBound=0)\n",
        "P2 = LpVariable(\"Producto 2\", lowBound=0)\n",
        "P3 = LpVariable(\"Producto 3\", lowBound=0)\n",
        "\n",
        "# Definir función objetivo: costo total de transporte (expresión que define la función objetivo)\n",
        "problem += 20*P1 + 15*P2 + 25*P3\n",
        "\n",
        "# Restricciones (expresiones que definen las restricciones)\n",
        "problem += P1 + P2 + P3 <= 500\n",
        "problem += P1 >= 100\n",
        "problem += P2 >= 150\n",
        "problem += P3 >= 200\n",
        "\n",
        "# Resolver el problema\n",
        "problem.solve()\n",
        "\n",
        "# Método para resolver el problema y encontrar la solución óptima\n",
        "\n",
        "# Mostrar resultados\n",
        "print(\"Cantidad óptima de Producto 1 a vender:\", value(P1))\n",
        "print(\"Cantidad óptima de Producto 2 a vender:\", value(P2))\n",
        "print(\"Cantidad óptima de Producto 3 a vender:\", value(P3))\n",
        "print(\"Ingresos totales máximos por ventas:\", value(problem.objective))\n"
      ],
      "metadata": {
        "id": "mMcVq9ZMDNnM",
        "colab": {
          "base_uri": "https://localhost:8080/"
        },
        "outputId": "f94ed6d4-509a-4dd5-e12d-4800b26fb5f8"
      },
      "execution_count": null,
      "outputs": [
        {
          "output_type": "stream",
          "name": "stdout",
          "text": [
            "Cantidad óptima de Producto 1 a vender: 100.0\n",
            "Cantidad óptima de Producto 2 a vender: 150.0\n",
            "Cantidad óptima de Producto 3 a vender: 250.0\n",
            "Ingresos totales máximos por ventas: 10500.0\n"
          ]
        }
      ]
    },
    {
      "cell_type": "markdown",
      "source": [
        "**Análisis:**\n",
        "\n",
        "Los resultados indican que la asignación óptima de productos a vender para maximizar los ingresos está compuesta por:\n",
        "\n",
        "*\t100 unidades de Producto 1\n",
        "*\t150 unidades de Producto 2\n",
        "*\t250 unidades de Producto 3\n",
        "\n",
        "Esta asignación cumple exactamente con los mínimos de demanda establecidos (100, 150 y 200 respectivamente) y utiliza el total de la capacidad de producción disponible (500 unidades), lo que evidencia un uso eficiente y completo de los recursos productivos.\n",
        "\n",
        "El modelo prioriza la venta del Producto 3, que tiene el mayor precio por unidad (25), maximizando su participación hasta agotar la capacidad de producción disponible, una vez satisfechos los mínimos exigidos para los otros productos. Esta estrategia permite alcanzar un ingreso total máximo de $10,500, que es el mejor resultado posible bajo las restricciones planteadas.\n",
        "\n",
        "En términos económicos, el modelo asigna recursos donde generan el mayor retorno por unidad vendida, ajustando los productos de menor precio (Producto 1 y 2) al mínimo requerido. Esto demuestra una planificación estratégica orientada a la rentabilidad, donde se aprovecha al máximo el producto más rentable sin incumplir con las exigencias del mercado.\n"
      ],
      "metadata": {
        "id": "wkMPCEKQxCgB"
      }
    }
  ]
}